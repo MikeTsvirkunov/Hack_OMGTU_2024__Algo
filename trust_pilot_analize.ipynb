{
 "cells": [
  {
   "cell_type": "code",
   "execution_count": 45,
   "metadata": {},
   "outputs": [],
   "source": [
    "import torch\n",
    "import os\n",
    "from catboost import CatBoostClassifier\n",
    "from sklearn.cluster import KMeans, DBSCAN\n",
    "import numpy as np\n",
    "import matplotlib.pyplot as plt\n",
    "from tqdm import tqdm\n",
    "from sklearn.metrics import silhouette_score"
   ]
  },
  {
   "cell_type": "code",
   "execution_count": 46,
   "metadata": {},
   "outputs": [],
   "source": [
    "def plot_silhouette(model, data, param_name, s, e, k):\n",
    "  ss = []\n",
    "  e = np.arange(s, e, k)\n",
    "  for i in tqdm(e):\n",
    "      c = model(**{param_name: i}).fit(data)\n",
    "      nc = np.unique(c.labels_).shape[0]\n",
    "      if nc > 1 and nc < data.shape[0]:\n",
    "        ss.append(silhouette_score(data, c.labels_))\n",
    "  if len(ss):\n",
    "    mv = np.argmin(ss)\n",
    "    plt.plot(ss)\n",
    "    plt.xticks(np.arange(len(e)), e)\n",
    "    plt.axvline(mv, color='red', linestyle='-')\n",
    "    print(e[mv])\n",
    "  else:\n",
    "    print('None')"
   ]
  },
  {
   "cell_type": "code",
   "execution_count": 47,
   "metadata": {},
   "outputs": [],
   "source": [
    "vectors_path = './vectorized_torch_emb/'"
   ]
  },
  {
   "cell_type": "code",
   "execution_count": 48,
   "metadata": {},
   "outputs": [],
   "source": [
    "list_of_tensors = os.listdir(vectors_path)"
   ]
  },
  {
   "cell_type": "code",
   "execution_count": 49,
   "metadata": {},
   "outputs": [],
   "source": [
    "def get_index_from_name(name: str) -> int: return int(name.replace('.html.pt', '').split('_')[-1])"
   ]
  },
  {
   "cell_type": "code",
   "execution_count": 50,
   "metadata": {},
   "outputs": [],
   "source": [
    "mean_value = list(map(lambda a: torch.load(vectors_path + a).mean(dim=0).detach().numpy(), list_of_tensors))\n",
    "indexes = list(map(lambda a: get_index_from_name(a), list_of_tensors))"
   ]
  },
  {
   "cell_type": "code",
   "execution_count": 58,
   "metadata": {},
   "outputs": [
    {
     "name": "stderr",
     "output_type": "stream",
     "text": [
      "100%|██████████| 100/100 [00:05<00:00, 19.30it/s]\n"
     ]
    },
    {
     "name": "stdout",
     "output_type": "stream",
     "text": [
      "1e-07\n"
     ]
    },
    {
     "data": {
      "image/png": "[encoded data removed]",
      "text/plain": [
       "<Figure size 640x480 with 1 Axes>"
      ]
     },
     "metadata": {},
     "output_type": "display_data"
    }
   ],
   "source": [
    "plot_silhouette(DBSCAN, np.array(mean_value), 'eps', 0.0000001, 0.0000002, 0.000000001)"
   ]
  },
  {
   "cell_type": "code",
   "execution_count": 62,
   "metadata": {},
   "outputs": [
    {
     "name": "stdout",
     "output_type": "stream",
     "text": [
      "[ 0  2  3  4  5  6  7  9 10 11 12 13 14 15 16 17 18 19 20 21 22 23 24 26\n",
      " 27 28 29 31 33 41]\n",
      "[ 0  1  2  3  4  5  6  7  8  9 10 11 12 13 14 15 16 17 18 20 21 22 23 24\n",
      " 25 26 28 31]\n"
     ]
    },
    {
     "data": {
      "text/plain": [
       "array([1, 1, 1, 0, 0, 1, 1, 1, 0, 0, 0, 1, 1, 0, 1, 1, 0, 1, 0, 1, 0, 0,\n",
       "       0, 1, 1, 0, 1, 0, 1, 0, 0, 1, 0, 0, 1, 1, 0, 1, 1, 1, 0, 0, 0, 0,\n",
       "       0, 1, 1, 1, 1, 0, 1, 1, 0, 0, 0, 1, 0, 0, 0, 1, 1, 1, 1, 0, 0, 1,\n",
       "       1, 0, 1, 0, 1, 0, 1, 1, 1, 0, 0, 1, 1, 1, 0, 0, 1, 0, 0, 1, 0, 0,\n",
       "       1, 1, 1, 1, 1, 0, 0, 0, 0, 0, 1, 1, 0, 1, 0, 1, 1, 1, 1, 1, 0, 0,\n",
       "       0, 0, 0, 0, 1, 0, 1, 1, 0, 1, 0, 1, 0, 1, 0, 0, 0, 0, 0, 1, 0, 1,\n",
       "       1, 0, 1, 1, 0, 1, 1, 1, 0, 1, 1, 1, 1, 1, 0, 0, 0, 0, 0, 0, 0, 0,\n",
       "       1, 0, 1, 0, 1, 1, 1, 1, 1, 0, 1, 1, 0, 1, 0, 1, 0, 1, 1, 0, 1, 1,\n",
       "       0, 0, 0, 1, 1, 0, 1, 1, 1, 0, 0, 0, 0, 1, 0, 1, 0, 0, 1, 0, 0, 0,\n",
       "       1, 1, 1, 0, 1, 1, 1, 0, 0, 0, 1, 0, 0, 0, 1, 1, 1, 1, 1, 1],\n",
       "      dtype=int32)"
      ]
     },
     "execution_count": 62,
     "metadata": {},
     "output_type": "execute_result"
    }
   ],
   "source": [
    "x = KMeans(n_clusters=2).fit_predict(mean_value)\n",
    "print(np.unique(np.array(indexes)[x==0]))\n",
    "print(np.unique(np.array(indexes)[x==1]))\n",
    "x"
   ]
  },
  {
   "cell_type": "code",
   "execution_count": 63,
   "metadata": {},
   "outputs": [
    {
     "name": "stdout",
     "output_type": "stream",
     "text": [
      "[ 0  1  2  3  4  5  6  7  8  9 10 11 12 13 14 15 16 17 18 20 21 22 23 24\n",
      " 25 26 28 31]\n",
      "[ 0  2  3  4  5  6  7  9 10 11 12 13 14 15 16 17 18 19 20 21 22 23 24 26\n",
      " 27 28 29 31 33 41]\n"
     ]
    },
    {
     "data": {
      "text/plain": [
       "array([-1, -1, -1,  0,  0, -1, -1, -1,  0,  0,  0, -1, -1,  0, -1, -1,  0,\n",
       "       -1,  0, -1,  0,  0,  0, -1, -1,  0, -1,  0, -1,  0,  0, -1,  0,  0,\n",
       "       -1, -1,  0, -1, -1, -1,  0,  0,  0,  0,  0, -1, -1, -1, -1,  0, -1,\n",
       "       -1,  0,  0,  0, -1,  0,  0,  0, -1, -1, -1, -1,  0,  0, -1, -1,  0,\n",
       "       -1,  0, -1,  0, -1, -1, -1,  0,  0, -1, -1, -1,  0,  0, -1,  0,  0,\n",
       "       -1,  0,  0, -1, -1, -1, -1, -1,  0,  0,  0,  0,  0, -1, -1,  0, -1,\n",
       "        0, -1, -1, -1, -1, -1,  0,  0,  0,  0,  0,  0, -1,  0, -1, -1,  0,\n",
       "       -1,  0, -1,  0, -1,  0,  0,  0,  0,  0, -1,  0, -1, -1,  0, -1, -1,\n",
       "        0, -1, -1, -1,  0, -1, -1, -1, -1, -1,  0,  0,  0,  0,  0,  0,  0,\n",
       "        0, -1,  0, -1,  0, -1, -1, -1, -1, -1,  0, -1, -1,  0, -1,  0, -1,\n",
       "        0, -1, -1,  0, -1, -1,  0,  0,  0, -1, -1,  0, -1, -1, -1,  0,  0,\n",
       "        0,  0, -1,  0, -1,  0,  0, -1,  0,  0,  0, -1, -1, -1,  0, -1, -1,\n",
       "       -1,  0,  0,  0, -1,  0,  0,  0, -1, -1, -1, -1, -1, -1])"
      ]
     },
     "execution_count": 63,
     "metadata": {},
     "output_type": "execute_result"
    }
   ],
   "source": [
    "x = DBSCAN(eps=0.000000003).fit_predict(mean_value)\n",
    "print(np.unique(np.array(indexes)[x==-1]))\n",
    "print(np.unique(np.array(indexes)[x==0]))\n",
    "x"
   ]
  }
 ],
 "metadata": {
  "kernelspec": {
   "display_name": "venv",
   "language": "python",
   "name": "python3"
  },
  "language_info": {
   "codemirror_mode": {
    "name": "ipython",
    "version": 3
   },
   "file_extension": ".py",
   "mimetype": "text/x-python",
   "name": "python",
   "nbconvert_exporter": "python",
   "pygments_lexer": "ipython3",
   "version": "3.10.12"
  }
 },
 "nbformat": 4,
 "nbformat_minor": 2
}
